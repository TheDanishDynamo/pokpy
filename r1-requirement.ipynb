{
 "cells": [
  {
   "cell_type": "markdown",
   "metadata": {},
   "source": [
    "# R1 - Requirement\n",
    "\n",
    "The main acceptance criteria is to\n",
    "\n",
    "1. Demonstrate the logic for measuring hand strength as a % confidence of winning the game during the phases of a 2 player game\n",
    "    1. Individual strength\n",
    "    2. Overall strength\n",
    "2. Use jupyter to document the requirement"
   ]
  },
  {
   "cell_type": "markdown",
   "metadata": {},
   "source": [
    "## Sample result\n",
    "\n",
    "Current Phase: Flop\n",
    "\n",
    "| Phase|P1-HS|P2-HS|P1-OS|P2-OS|\n",
    "|:----------|:-------:|:-------:|:-------:|:-------:|\n",
    "| Pre-flop |60%|50%|80%|50%|\n",
    "| Flop     |20%|60%|10%|90%|\n",
    "| Turn     |-|-|-|-|\n",
    "| River    |-|-|-|-|"
   ]
  },
  {
   "cell_type": "code",
   "execution_count": null,
   "metadata": {},
   "outputs": [],
   "source": []
  }
 ],
 "metadata": {
  "kernelspec": {
   "display_name": "Python 3",
   "language": "python",
   "name": "python3"
  },
  "language_info": {
   "codemirror_mode": {
    "name": "ipython",
    "version": 3
   },
   "file_extension": ".py",
   "mimetype": "text/x-python",
   "name": "python",
   "nbconvert_exporter": "python",
   "pygments_lexer": "ipython3",
   "version": "3.7.1"
  }
 },
 "nbformat": 4,
 "nbformat_minor": 2
}
